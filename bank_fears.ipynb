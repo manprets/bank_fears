{
 "cells": [
  {
   "cell_type": "markdown",
   "metadata": {},
   "source": [
    "# Bank Fears Loanliness"
   ]
  },
  {
   "cell_type": "markdown",
   "metadata": {},
   "source": [
    "https://www.hackerearth.com/challenge/competitive/machine-learning-challenge-one/machine-learning/bank-fears-loanliness/"
   ]
  },
  {
   "cell_type": "markdown",
   "metadata": {},
   "source": [
    "## Problem Statement"
   ]
  },
  {
   "cell_type": "raw",
   "metadata": {},
   "source": [
    "The Bank Indessa has not done well in last 3 quarters. Their NPAs (Non Performing Assets) have reached all time high. It is starting to lose confidence of its investors. As a result, it’s stock has fallen by 20% in the previous quarter alone.\n",
    "\n",
    "After careful analysis, it was found that the majority of NPA was contributed by loan defaulters. With the messy data collected over all the years, this bank has decided to use machine learning to figure out a way to find these defaulters and devise a plan to reduce them.\n",
    "\n",
    "This bank uses a pool of investors to sanction their loans. For example: If any customer has applied for a loan of $20000, along with bank, the investors perform a due diligence on the requested loan application. Keep this in mind while understanding data.\n",
    "\n",
    "In this challenge, you will help this bank by predicting the probability that a member will default."
   ]
  },
  {
   "cell_type": "markdown",
   "metadata": {},
   "source": [
    "## Data Information"
   ]
  },
  {
   "cell_type": "raw",
   "metadata": {},
   "source": [
    "There are files given: train, test and submission. Your submission file must adhere to format specified in the given submission file. This data set comprises of information captured in December 2016. Following is the description of variables given:\n",
    "\n",
    "Variable\tDescription\n",
    "member_id\tunique ID assigned to each member\n",
    "loan_amnt\tloan amount ($) applied by the member\n",
    "funded_amnt\tloan amount ($) sanctioned by the bank\n",
    "funded_amnt_inv\tloan amount ($) sanctioned by the investors\n",
    "term\tterm of loan (in months)\n",
    "batch_enrolled\tbatch numbers allotted to members\n",
    "int_rate\tinterest rate (%) on loan\n",
    "grade\tgrade assigned by the bank\n",
    "sub_grade\tgrade assigned by the bank\n",
    "emp_title\tjob / Employer title of member\n",
    "emp_length\temployment length, where 0 means less than one year and 10 means ten or more years\n",
    "home_ownership\tstatus of home ownership\n",
    "annual_inc\tannual income ($) reported by the member\n",
    "verification_status\tstatus of income verified by the bank\n",
    "pymnt_plan\tindicates if any payment plan has started against loan\n",
    "desc\tloan description provided by member\n",
    "purpose\tpurpose of loan\n",
    "title\tloan title provided by member\n",
    "zip_code\tfirst three digits of area zipcode of member\n",
    "addr_state\tliving state of member\n",
    "dti\tratio of member's total monthly debt repayment excluding mortgage divided by self reported monthly income\n",
    "delinq_2yrs\tnumber of 30+ days delinquency in past 2 years\n",
    "inq_last_6mths\tnumber of inquiries in last 6 months\n",
    "mths_since_last_delinq\tnumber of months since last delinq\n",
    "mths_since_last_record\tnumber of months since last public record\n",
    "open_acc\tnumber of open credit line in member's credit line\n",
    "pub_rec\tnumber of derogatory public records\n",
    "revol_bal\ttotal credit revolving balance\n",
    "revol_util\tamount of credit a member is using relative to revol_bal\n",
    "total_acc\ttotal number of credit lines available in members credit line\n",
    "initial_list_status\tunique listing status of the loan - W(Waiting), F(Forwarded)\n",
    "total_rec_int\tinterest received till date\n",
    "total_rec_late_fee\tLate fee received till date\n",
    "recoveries\tpost charge off gross recovery\n",
    "collection_recovery_fee\tpost charge off collection fee\n",
    "collections_12_mths_ex_med\tnumber of collections in last 12 months excluding medical collections\n",
    "mths_since_last_major_derog\tmonths since most recent 90 day or worse rating\n",
    "application_type\tindicates when the member is an individual or joint\n",
    "verification_status_joint\tindicates if the joint members income was verified by the bank\n",
    "last_week_pay\tindicates how long (in weeks) a member has paid EMI after batch enrolled\n",
    "acc_now_delinq\tnumber of accounts on which the member is delinquent\n",
    "tot_coll_amt\ttotal collection amount ever owed\n",
    "tot_cur_bal\ttotal current balance of all accounts\n",
    "total_rev_hi_lim\ttotal revolving credit limit\n",
    "loan_status\tstatus of loan amount, 1 = Defaulter, 0 = Non Defaulters"
   ]
  },
  {
   "cell_type": "markdown",
   "metadata": {},
   "source": [
    "## Evaluation Metric"
   ]
  },
  {
   "cell_type": "raw",
   "metadata": {},
   "source": [
    "Submissions will be evaluated based on AUC-ROC score"
   ]
  },
  {
   "cell_type": "code",
   "execution_count": null,
   "metadata": {
    "collapsed": true
   },
   "outputs": [],
   "source": []
  },
  {
   "cell_type": "code",
   "execution_count": null,
   "metadata": {
    "collapsed": true
   },
   "outputs": [],
   "source": []
  },
  {
   "cell_type": "code",
   "execution_count": null,
   "metadata": {
    "collapsed": true
   },
   "outputs": [],
   "source": []
  },
  {
   "cell_type": "code",
   "execution_count": null,
   "metadata": {
    "collapsed": true
   },
   "outputs": [],
   "source": []
  },
  {
   "cell_type": "code",
   "execution_count": null,
   "metadata": {
    "collapsed": true
   },
   "outputs": [],
   "source": []
  },
  {
   "cell_type": "code",
   "execution_count": null,
   "metadata": {
    "collapsed": true
   },
   "outputs": [],
   "source": []
  },
  {
   "cell_type": "code",
   "execution_count": null,
   "metadata": {
    "collapsed": true
   },
   "outputs": [],
   "source": []
  },
  {
   "cell_type": "code",
   "execution_count": null,
   "metadata": {
    "collapsed": true
   },
   "outputs": [],
   "source": []
  },
  {
   "cell_type": "code",
   "execution_count": null,
   "metadata": {
    "collapsed": true
   },
   "outputs": [],
   "source": []
  },
  {
   "cell_type": "code",
   "execution_count": null,
   "metadata": {
    "collapsed": true
   },
   "outputs": [],
   "source": []
  },
  {
   "cell_type": "code",
   "execution_count": null,
   "metadata": {
    "collapsed": true
   },
   "outputs": [],
   "source": []
  },
  {
   "cell_type": "code",
   "execution_count": null,
   "metadata": {
    "collapsed": true
   },
   "outputs": [],
   "source": []
  },
  {
   "cell_type": "code",
   "execution_count": null,
   "metadata": {
    "collapsed": true
   },
   "outputs": [],
   "source": []
  },
  {
   "cell_type": "code",
   "execution_count": null,
   "metadata": {
    "collapsed": true
   },
   "outputs": [],
   "source": []
  },
  {
   "cell_type": "code",
   "execution_count": null,
   "metadata": {
    "collapsed": true
   },
   "outputs": [],
   "source": []
  },
  {
   "cell_type": "code",
   "execution_count": null,
   "metadata": {
    "collapsed": true
   },
   "outputs": [],
   "source": []
  }
 ],
 "metadata": {
  "kernelspec": {
   "display_name": "Python 3",
   "language": "python",
   "name": "python3"
  },
  "language_info": {
   "codemirror_mode": {
    "name": "ipython",
    "version": 3
   },
   "file_extension": ".py",
   "mimetype": "text/x-python",
   "name": "python",
   "nbconvert_exporter": "python",
   "pygments_lexer": "ipython3",
   "version": "3.5.2"
  }
 },
 "nbformat": 4,
 "nbformat_minor": 0
}
